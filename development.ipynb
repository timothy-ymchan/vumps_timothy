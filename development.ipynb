{
 "cells": [
  {
   "cell_type": "code",
   "execution_count": 45,
   "metadata": {},
   "outputs": [
    {
     "data": {
      "text/plain": [
       "_right_orthonormal_form (generic function with 1 method)"
      ]
     },
     "metadata": {},
     "output_type": "display_data"
    }
   ],
   "source": [
    "using TensorKit\n",
    "using KrylovKit\n",
    "using TensorOperations\n",
    "include(\"./mps.jl\")"
   ]
  },
  {
   "cell_type": "code",
   "execution_count": 63,
   "metadata": {},
   "outputs": [
    {
     "data": {
      "text/plain": [
       "TensorMap(ℂ^2 ← ℂ^2):\n",
       " 0.9290722501682875  0.8214863680208749\n",
       " 0.8522360538815533  0.13790555542965777\n"
      ]
     },
     "metadata": {},
     "output_type": "display_data"
    }
   ],
   "source": [
    "Hib_phy = ℂ^3\n",
    "Hib_chi = ℂ^2\n",
    "A = uMPS_normalize(randn(Hib_chi⊗Hib_phy⊗Hib_chi'))\n",
    "fix_point(transfer_mat(A,A))\n",
    "L = rand(Hib_chi,Hib_chi)"
   ]
  },
  {
   "cell_type": "code",
   "execution_count": 62,
   "metadata": {},
   "outputs": [
    {
     "data": {
      "text/plain": [
       "TensorMap((ℂ^2 ⊗ ℂ^3 ⊗ (ℂ^2)') ← ProductSpace{ComplexSpace, 0}()):\n",
       "[:, :, 1] =\n",
       " -0.4483847179438102   -0.015830292506971086  -0.11545500418365733\n",
       "  0.41622295914468044   0.11159693094627544    0.6382583068984655\n",
       "\n",
       "[:, :, 2] =\n",
       " -0.003059483292907151   0.32184955487905814  0.15277714179615345\n",
       "  0.21823290001618398   -0.05667425584517457  0.12052665318310325\n"
      ]
     },
     "metadata": {},
     "output_type": "display_data"
    }
   ],
   "source": [
    "normalize!(A)"
   ]
  },
  {
   "cell_type": "code",
   "execution_count": 58,
   "metadata": {},
   "outputs": [],
   "source": [
    "#@tensor LA[i,j,k]:=L[i,m]*A[k,j,m]"
   ]
  },
  {
   "cell_type": "code",
   "execution_count": null,
   "metadata": {},
   "outputs": [
    {
     "ename": "SpaceMismatch{String}",
     "evalue": "SpaceMismatch(\"ProductSpace(ℂ^2) ≠ ProductSpace((ℂ^2)')\")",
     "output_type": "error",
     "traceback": [
      "SpaceMismatch(\"ProductSpace(ℂ^2) ≠ ProductSpace((ℂ^2)')\")\n",
      "\n",
      "Stacktrace:\n",
      "  [1] compose\n",
      "    @ C:\\Users\\yanchan\\.julia\\packages\\TensorKit\\Wgx9D\\src\\spaces\\homspace.jl:157 [inlined]\n",
      "  [2] tensorcontract_structure(A::TensorMap{Float64, ComplexSpace, 1, 1, Vector{Float64}}, pA::Tuple{Tuple{Int64}, Tuple{Int64}}, conjA::Bool, B::Tensor{Float64, ComplexSpace, 3, Vector{Float64}}, pB::Tuple{Tuple{Int64}, Tuple{Int64, Int64}}, conjB::Bool, pAB::Tuple{Tuple{Int64, Int64, Int64}, Tuple{}})\n",
      "    @ TensorKit C:\\Users\\yanchan\\.julia\\packages\\TensorKit\\Wgx9D\\src\\tensors\\tensoroperations.jl:128\n",
      "  [3] tensoralloc_contract\n",
      "    @ C:\\Users\\yanchan\\.julia\\packages\\TensorOperations\\HkbYW\\src\\implementation\\allocator.jl:101 [inlined]\n",
      "  [4] tensorcontract(A::TensorMap{Float64, ComplexSpace, 1, 1, Vector{Float64}}, pA::Tuple{Tuple{Int64}, Tuple{Int64}}, conjA::Bool, B::Tensor{Float64, ComplexSpace, 3, Vector{Float64}}, pB::Tuple{Tuple{Int64}, Tuple{Int64, Int64}}, conjB::Bool, pAB::Tuple{Tuple{Int64, Int64, Int64}, Tuple{}}, α::VectorInterface.One, backend::TensorOperations.DefaultBackend, allocator::TensorOperations.DefaultAllocator)\n",
      "    @ TensorOperations C:\\Users\\yanchan\\.julia\\packages\\TensorOperations\\HkbYW\\src\\implementation\\functions.jl:230\n",
      "  [5] tensorcontract\n",
      "    @ C:\\Users\\yanchan\\.julia\\packages\\TensorOperations\\HkbYW\\src\\implementation\\functions.jl:229 [inlined]\n",
      "  [6] tensorcontract(IC::Tuple{Int64, Int64, Int64}, A::TensorMap{Float64, ComplexSpace, 1, 1, Vector{Float64}}, IA::Tuple{Int64, Int64}, conjA::Bool, B::Tensor{Float64, ComplexSpace, 3, Vector{Float64}}, IB::Tuple{Int64, Int64, Int64}, conjB::Bool, α::VectorInterface.One; kwargs::@Kwargs{})\n",
      "    @ TensorOperations C:\\Users\\yanchan\\.julia\\packages\\TensorOperations\\HkbYW\\src\\implementation\\functions.jl:208\n",
      "  [7] tensorcontract\n",
      "    @ C:\\Users\\yanchan\\.julia\\packages\\TensorOperations\\HkbYW\\src\\implementation\\functions.jl:205 [inlined]\n",
      "  [8] tensorcontract(IC::Tuple{Int64, Int64, Int64}, A::TensorMap{Float64, ComplexSpace, 1, 1, Vector{Float64}}, IA::Tuple{Int64, Int64}, conjA::Bool, B::Tensor{Float64, ComplexSpace, 3, Vector{Float64}}, IB::Tuple{Int64, Int64, Int64}, conjB::Bool)\n",
      "    @ TensorOperations C:\\Users\\yanchan\\.julia\\packages\\TensorOperations\\HkbYW\\src\\implementation\\functions.jl:205\n",
      "  [9] ncon(tensors::Vector{TensorMap{Float64, ComplexSpace, N₁, N₂, Vector{Float64}} where {N₁, N₂}}, network::Vector{Vector{Int64}}, conjlist::Vector{Bool}; order::Nothing, output::Nothing, kwargs::@Kwargs{})\n",
      "    @ TensorOperations C:\\Users\\yanchan\\.julia\\packages\\TensorOperations\\HkbYW\\src\\implementation\\ncon.jl:47\n",
      " [10] ncon\n",
      "    @ C:\\Users\\yanchan\\.julia\\packages\\TensorOperations\\HkbYW\\src\\implementation\\ncon.jl:25 [inlined]\n",
      " [11] ncon(tensors::Vector{TensorMap{Float64, ComplexSpace, N₁, N₂, Vector{Float64}} where {N₁, N₂}}, network::Vector{Vector{Int64}})\n",
      "    @ TensorOperations C:\\Users\\yanchan\\.julia\\packages\\TensorOperations\\HkbYW\\src\\implementation\\ncon.jl:25\n",
      " [12] top-level scope\n",
      "    @ c:\\Users\\yanchan\\OneDrive - Stony Brook University\\Documents\\vumps_timothy\\jl_notebook_cell_df34fa98e69747e1a8f8a730347b8e2f_W6sZmlsZQ==.jl:1"
     ]
    }
   ],
   "source": [
    "#ncon([L,A],[[-1,1],[-3,-2,1]])"
   ]
  },
  {
   "cell_type": "code",
   "execution_count": 19,
   "metadata": {},
   "outputs": [
    {
     "data": {
      "text/plain": [
       "4×4 reshape(view(::Vector{Float64}, 1:16), 4, 4) with eltype Float64:\n",
       "  3.87951   0.58555   -0.150015  -1.66209\n",
       "  0.58555   0.940286   1.70043    0.192573\n",
       " -0.150015  1.70043    3.7099     1.14711\n",
       " -1.66209   0.192573   1.14711    1.10076"
      ]
     },
     "metadata": {},
     "output_type": "display_data"
    }
   ],
   "source": [
    "block(T,Trivial())"
   ]
  },
  {
   "cell_type": "code",
   "execution_count": 17,
   "metadata": {},
   "outputs": [
    {
     "data": {
      "text/plain": [
       "TensorMap(((ℂ^2)' ⊗ ℂ^2) ← ((ℂ^2)' ⊗ ℂ^2)):\n",
       "[:, :, 1, 1] =\n",
       " 3.8795052868484126  -0.15001489675547736\n",
       " 0.5855502331680026  -1.6620850903079372\n",
       "\n",
       "[:, :, 2, 1] =\n",
       " 0.5855502331680026  1.7004273020398568\n",
       " 0.9402857820135994  0.19257324944133913\n",
       "\n",
       "[:, :, 1, 2] =\n",
       " -0.15001489675547736  3.709903788606434\n",
       "  1.7004273020398568   1.1471083553594759\n",
       "\n",
       "[:, :, 2, 2] =\n",
       " -1.6620850903079372   1.1471083553594759\n",
       "  0.19257324944133913  1.1007581030706535\n"
      ]
     },
     "metadata": {},
     "output_type": "display_data"
    }
   ],
   "source": [
    "T=transfer_mat(A,A,:left)"
   ]
  },
  {
   "cell_type": "code",
   "execution_count": 13,
   "metadata": {},
   "outputs": [
    {
     "data": {
      "text/plain": [
       "TensorMap(((ℂ^2)' ⊗ ℂ^2) ← ((ℂ^2)' ⊗ ℂ^2)):\n",
       "[:, :, 1, 1] =\n",
       " 18.178461662920384  -2.0494305101054096\n",
       "  2.247067231348902  -8.336943556575246\n",
       "\n",
       "[:, :, 2, 1] =\n",
       " 2.247067231348902  8.040370431222344\n",
       " 4.155543893342971  1.3703905068794675\n",
       "\n",
       "[:, :, 1, 2] =\n",
       " -2.0494305101054096  17.993201178422996\n",
       "  8.040370431222344    6.095144784966157\n",
       "\n",
       "[:, :, 2, 2] =\n",
       " -8.336943556575246   6.095144784966157\n",
       "  1.3703905068794675  5.327137284235565\n"
      ]
     },
     "metadata": {},
     "output_type": "display_data"
    }
   ],
   "source": [
    "T*T"
   ]
  },
  {
   "cell_type": "code",
   "execution_count": null,
   "metadata": {},
   "outputs": [],
   "source": []
  }
 ],
 "metadata": {
  "kernelspec": {
   "display_name": "Julia 1.11.1",
   "language": "julia",
   "name": "julia-1.11"
  },
  "language_info": {
   "file_extension": ".jl",
   "mimetype": "application/julia",
   "name": "julia",
   "version": "1.11.1"
  }
 },
 "nbformat": 4,
 "nbformat_minor": 2
}
